{
 "cells": [
  {
   "cell_type": "code",
   "execution_count": 1,
   "metadata": {},
   "outputs": [],
   "source": [
    "# Imports\n",
    "import numpy as np\n",
    "import pandas as pd\n",
    "from utils import DataLoader\n",
    "from interpret.glassbox import LogisticRegression, ClassificationTree, ExplainableBoostingClassifier\n",
    "from interpret import show\n",
    "from sklearn.metrics import f1_score, accuracy_score"
   ]
  },
  {
   "cell_type": "code",
   "execution_count": 2,
   "metadata": {},
   "outputs": [
    {
     "name": "stdout",
     "output_type": "stream",
     "text": [
      "(4088, 21)\n",
      "(1022, 21)\n"
     ]
    }
   ],
   "source": [
    "# Load and preprocess data\n",
    "data_loader = DataLoader()\n",
    "data_loader.load_dataset()\n",
    "data_loader.preprocess_data()\n",
    "\n",
    "# Split the data for evaluation\n",
    "X_train, X_test, y_train, y_test = data_loader.get_data_split()\n",
    "print(X_train.shape)\n",
    "print(X_test.shape)"
   ]
  },
  {
   "cell_type": "code",
   "execution_count": 3,
   "metadata": {},
   "outputs": [
    {
     "name": "stdout",
     "output_type": "stream",
     "text": [
      "<class 'pandas.core.frame.DataFrame'>\n",
      "Index: 4088 entries, 5041 to 1140\n",
      "Data columns (total 21 columns):\n",
      " #   Column                          Non-Null Count  Dtype  \n",
      "---  ------                          --------------  -----  \n",
      " 0   gender_Female                   4088 non-null   int64  \n",
      " 1   gender_Male                     4088 non-null   int64  \n",
      " 2   gender_Other                    4088 non-null   int64  \n",
      " 3   ever_married_No                 4088 non-null   int64  \n",
      " 4   ever_married_Yes                4088 non-null   int64  \n",
      " 5   work_type_Govt_job              4088 non-null   int64  \n",
      " 6   work_type_Never_worked          4088 non-null   int64  \n",
      " 7   work_type_Private               4088 non-null   int64  \n",
      " 8   work_type_Self-employed         4088 non-null   int64  \n",
      " 9   work_type_children              4088 non-null   int64  \n",
      " 10  Residence_type_Rural            4088 non-null   int64  \n",
      " 11  Residence_type_Urban            4088 non-null   int64  \n",
      " 12  smoking_status_Unknown          4088 non-null   int64  \n",
      " 13  smoking_status_formerly smoked  4088 non-null   int64  \n",
      " 14  smoking_status_never smoked     4088 non-null   int64  \n",
      " 15  smoking_status_smokes           4088 non-null   int64  \n",
      " 16  age                             4088 non-null   float64\n",
      " 17  hypertension                    4088 non-null   int64  \n",
      " 18  heart_disease                   4088 non-null   int64  \n",
      " 19  avg_glucose_level               4088 non-null   float64\n",
      " 20  bmi                             4088 non-null   float64\n",
      "dtypes: float64(3), int64(18)\n",
      "memory usage: 702.6 KB\n"
     ]
    }
   ],
   "source": [
    "X_train.info()"
   ]
  },
  {
   "cell_type": "code",
   "execution_count": 4,
   "metadata": {},
   "outputs": [
    {
     "name": "stdout",
     "output_type": "stream",
     "text": [
      "199\n",
      "3889\n"
     ]
    }
   ],
   "source": [
    "# Check for class imbalance\n",
    "print(np.sum(y_train == 1))\n",
    "print(np.sum(y_train == 0))"
   ]
  },
  {
   "cell_type": "code",
   "execution_count": 5,
   "metadata": {},
   "outputs": [
    {
     "name": "stdout",
     "output_type": "stream",
     "text": [
      "Index(['gender_Female', 'gender_Male', 'gender_Other', 'ever_married_No',\n",
      "       'ever_married_Yes', 'work_type_Govt_job', 'work_type_Never_worked',\n",
      "       'work_type_Private', 'work_type_Self-employed', 'work_type_children',\n",
      "       'Residence_type_Rural', 'Residence_type_Urban',\n",
      "       'smoking_status_Unknown', 'smoking_status_formerly smoked',\n",
      "       'smoking_status_never smoked', 'smoking_status_smokes', 'age',\n",
      "       'hypertension', 'heart_disease', 'avg_glucose_level', 'bmi'],\n",
      "      dtype='object')\n",
      "Index(['gender_Female', 'gender_Male', 'gender_Other', 'ever_married_No',\n",
      "       'ever_married_Yes', 'work_type_Govt_job', 'work_type_Never_worked',\n",
      "       'work_type_Private', 'work_type_Self-employed', 'work_type_children',\n",
      "       'Residence_type_Rural', 'Residence_type_Urban',\n",
      "       'smoking_status_Unknown', 'smoking_status_formerly smoked',\n",
      "       'smoking_status_never smoked', 'smoking_status_smokes', 'age',\n",
      "       'hypertension', 'heart_disease', 'avg_glucose_level', 'bmi'],\n",
      "      dtype='object')\n",
      "After oversampling:  (7778, 21)\n",
      "3889\n",
      "3889\n"
     ]
    }
   ],
   "source": [
    "# Oversample the train data\n",
    "X_train, y_train = data_loader.oversample(X_train, y_train)\n",
    "print(\"After oversampling: \", X_train.shape)\n",
    "print(np.sum(y_train == 1))\n",
    "print(np.sum(y_train == 0))"
   ]
  },
  {
   "cell_type": "code",
   "execution_count": 7,
   "metadata": {},
   "outputs": [
    {
     "name": "stdout",
     "output_type": "stream",
     "text": [
      "<class 'pandas.core.frame.DataFrame'>\n",
      "RangeIndex: 7778 entries, 0 to 7777\n",
      "Data columns (total 21 columns):\n",
      " #   Column                          Non-Null Count  Dtype  \n",
      "---  ------                          --------------  -----  \n",
      " 0   gender_Female                   7778 non-null   int64  \n",
      " 1   gender_Male                     7778 non-null   int64  \n",
      " 2   gender_Other                    7778 non-null   int64  \n",
      " 3   ever_married_No                 7778 non-null   int64  \n",
      " 4   ever_married_Yes                7778 non-null   int64  \n",
      " 5   work_type_Govt_job              7778 non-null   int64  \n",
      " 6   work_type_Never_worked          7778 non-null   int64  \n",
      " 7   work_type_Private               7778 non-null   int64  \n",
      " 8   work_type_Self-employed         7778 non-null   int64  \n",
      " 9   work_type_children              7778 non-null   int64  \n",
      " 10  Residence_type_Rural            7778 non-null   int64  \n",
      " 11  Residence_type_Urban            7778 non-null   int64  \n",
      " 12  smoking_status_Unknown          7778 non-null   int64  \n",
      " 13  smoking_status_formerly smoked  7778 non-null   int64  \n",
      " 14  smoking_status_never smoked     7778 non-null   int64  \n",
      " 15  smoking_status_smokes           7778 non-null   int64  \n",
      " 16  age                             7778 non-null   float64\n",
      " 17  hypertension                    7778 non-null   int64  \n",
      " 18  heart_disease                   7778 non-null   int64  \n",
      " 19  avg_glucose_level               7778 non-null   float64\n",
      " 20  bmi                             7778 non-null   float64\n",
      "dtypes: float64(3), int64(18)\n",
      "memory usage: 1.2 MB\n",
      "None\n"
     ]
    }
   ],
   "source": [
    "print(X_train.info())"
   ]
  },
  {
   "cell_type": "code",
   "execution_count": 8,
   "metadata": {},
   "outputs": [
    {
     "name": "stdout",
     "output_type": "stream",
     "text": [
      "Training finished.\n"
     ]
    }
   ],
   "source": [
    "# Fit Logistic Regression model\n",
    "lr = LogisticRegression(random_state=2021, feature_names=X_train.columns, penalty='l1', solver='liblinear')\n",
    "lr.fit(X_train, y_train)\n",
    "print(\"Training finished.\")"
   ]
  },
  {
   "cell_type": "code",
   "execution_count": 9,
   "metadata": {},
   "outputs": [
    {
     "name": "stdout",
     "output_type": "stream",
     "text": [
      "F1 Score 0.5181145141312915\n",
      "Accuracy 0.7377690802348337\n"
     ]
    }
   ],
   "source": [
    "# Evaluate logistic regression modle\n",
    "y_pred = lr.predict(X_test)\n",
    "print(f\"F1 Score {f1_score(y_test, y_pred, average='macro')}\")\n",
    "print(f\"Accuracy {accuracy_score(y_test, y_pred)}\")"
   ]
  },
  {
   "cell_type": "code",
   "execution_count": 10,
   "metadata": {},
   "outputs": [
    {
     "data": {
      "text/html": [
       "<!-- http://127.0.0.1:7001/130481791034624/ -->\n",
       "<iframe src=\"http://127.0.0.1:7001/130481791034624/\" width=100% height=800 frameBorder=\"0\"></iframe>"
      ]
     },
     "metadata": {},
     "output_type": "display_data"
    }
   ],
   "source": [
    "# Explain local prediction\n",
    "lr_local = lr.explain_local(X_test[:100], y_test[:100], name='Logistic Regression')\n",
    "show(lr_local)"
   ]
  },
  {
   "cell_type": "code",
   "execution_count": 12,
   "metadata": {},
   "outputs": [
    {
     "data": {
      "text/html": [
       "<!-- http://127.0.0.1:7001/130481629695664/ -->\n",
       "<iframe src=\"http://127.0.0.1:7001/130481629695664/\" width=100% height=800 frameBorder=\"0\"></iframe>"
      ]
     },
     "metadata": {},
     "output_type": "display_data"
    }
   ],
   "source": [
    "lr_global = lr.explain_global(name=\"Logistic Regression\")\n",
    "show(lr_global)"
   ]
  },
  {
   "cell_type": "code",
   "execution_count": 13,
   "metadata": {},
   "outputs": [
    {
     "name": "stdout",
     "output_type": "stream",
     "text": [
      "Training Finished.\n"
     ]
    }
   ],
   "source": [
    "# Fit decision tree model\n",
    "tree = ClassificationTree()\n",
    "tree.fit(X_train, y_train)\n",
    "print(\"Training Finished.\")"
   ]
  },
  {
   "cell_type": "code",
   "execution_count": 14,
   "metadata": {},
   "outputs": [
    {
     "name": "stdout",
     "output_type": "stream",
     "text": [
      "F1 Score 0.5259920468974536\n",
      "Accuracy 0.761252446183953\n"
     ]
    }
   ],
   "source": [
    "y_pred = tree.predict(X_test)\n",
    "print(f\"F1 Score {f1_score(y_test, y_pred, average='macro')}\")\n",
    "print(f\"Accuracy {accuracy_score(y_test, y_pred)}\")"
   ]
  },
  {
   "cell_type": "code",
   "execution_count": 22,
   "metadata": {},
   "outputs": [
    {
     "data": {
      "text/html": [
       "<!-- http://127.0.0.1:7001/130481619449840/ -->\n",
       "<iframe src=\"http://127.0.0.1:7001/130481619449840/\" width=100% height=800 frameBorder=\"0\"></iframe>"
      ]
     },
     "metadata": {},
     "output_type": "display_data"
    }
   ],
   "source": [
    "tree_local = tree.explain_local(X_test[:100], y_test[:100], name='tree')\n",
    "show(tree_local)"
   ]
  },
  {
   "cell_type": "code",
   "execution_count": 26,
   "metadata": {},
   "outputs": [
    {
     "data": {
      "text/html": [
       "<!-- http://127.0.0.1:7001/130481619410928/ -->\n",
       "<iframe src=\"http://127.0.0.1:7001/130481619410928/\" width=100% height=800 frameBorder=\"0\"></iframe>"
      ]
     },
     "metadata": {},
     "output_type": "display_data"
    }
   ],
   "source": [
    "tree_global = tree.explain_global(name=\"Tree\")\n",
    "show(tree_global)"
   ]
  },
  {
   "cell_type": "code",
   "execution_count": 24,
   "metadata": {},
   "outputs": [
    {
     "name": "stdout",
     "output_type": "stream",
     "text": [
      "Training Finished.\n"
     ]
    }
   ],
   "source": [
    "ebm = ExplainableBoostingClassifier(random_state=2021)\n",
    "ebm.fit(X_train, y_train)\n",
    "print(\"Training Finished.\")"
   ]
  },
  {
   "cell_type": "code",
   "execution_count": 25,
   "metadata": {},
   "outputs": [
    {
     "name": "stdout",
     "output_type": "stream",
     "text": [
      "F1 Score 0.5583304901626294\n",
      "Accuracy 0.9256360078277887\n"
     ]
    }
   ],
   "source": [
    "y_pred = ebm.predict(X_test)\n",
    "print(f\"F1 Score {f1_score(y_test, y_pred, average='macro')}\")\n",
    "print(f\"Accuracy {accuracy_score(y_test, y_pred)}\")"
   ]
  },
  {
   "cell_type": "code",
   "execution_count": 29,
   "metadata": {},
   "outputs": [
    {
     "data": {
      "text/html": [
       "<!-- http://127.0.0.1:7001/130481622793808/ -->\n",
       "<iframe src=\"http://127.0.0.1:7001/130481622793808/\" width=100% height=800 frameBorder=\"0\"></iframe>"
      ]
     },
     "metadata": {},
     "output_type": "display_data"
    }
   ],
   "source": [
    "ebm_local = ebm.explain_local(X_test[:100], y_test[:100], name='EBM')\n",
    "show(ebm_local)"
   ]
  },
  {
   "cell_type": "code",
   "execution_count": 31,
   "metadata": {},
   "outputs": [
    {
     "data": {
      "text/html": [
       "<!-- http://127.0.0.1:7001/130481621133360/ -->\n",
       "<iframe src=\"http://127.0.0.1:7001/130481621133360/\" width=100% height=800 frameBorder=\"0\"></iframe>"
      ]
     },
     "metadata": {},
     "output_type": "display_data"
    }
   ],
   "source": [
    "ebm_global = ebm.explain_global(name=\"EBM\")\n",
    "show(ebm_global)"
   ]
  },
  {
   "cell_type": "code",
   "execution_count": null,
   "metadata": {},
   "outputs": [],
   "source": []
  }
 ],
 "metadata": {
  "kernelspec": {
   "display_name": "Python 3",
   "language": "python",
   "name": "python3"
  },
  "language_info": {
   "codemirror_mode": {
    "name": "ipython",
    "version": 3
   },
   "file_extension": ".py",
   "mimetype": "text/x-python",
   "name": "python",
   "nbconvert_exporter": "python",
   "pygments_lexer": "ipython3",
   "version": "3.10.12"
  }
 },
 "nbformat": 4,
 "nbformat_minor": 2
}
