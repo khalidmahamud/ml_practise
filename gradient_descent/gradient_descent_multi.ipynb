{
 "cells": [
  {
   "cell_type": "code",
   "execution_count": 71,
   "metadata": {},
   "outputs": [],
   "source": [
    "import pandas as pd\n",
    "import numpy as np\n",
    "import matplotlib.pyplot as plt\n",
    "from sklearn.preprocessing import StandardScaler\n",
    "import math"
   ]
  },
  {
   "cell_type": "code",
   "execution_count": 72,
   "metadata": {},
   "outputs": [],
   "source": [
    "column_names = [\"Size (sqft)\", \"Number of Bedrooms\", \"Number of Floors\", \"Age of Home\", \"Price (1000s dollars)\"]\n",
    "df = pd.read_csv(\"house.csv\", names=column_names)\n",
    "\n",
    "X_train = df.drop(columns=\"Price (1000s dollars)\")\n",
    "Y_train = df[[\"Price (1000s dollars)\"]]"
   ]
  },
  {
   "cell_type": "code",
   "execution_count": 73,
   "metadata": {},
   "outputs": [
    {
     "data": {
      "text/html": [
       "<div>\n",
       "<style scoped>\n",
       "    .dataframe tbody tr th:only-of-type {\n",
       "        vertical-align: middle;\n",
       "    }\n",
       "\n",
       "    .dataframe tbody tr th {\n",
       "        vertical-align: top;\n",
       "    }\n",
       "\n",
       "    .dataframe thead th {\n",
       "        text-align: right;\n",
       "    }\n",
       "</style>\n",
       "<table border=\"1\" class=\"dataframe\">\n",
       "  <thead>\n",
       "    <tr style=\"text-align: right;\">\n",
       "      <th></th>\n",
       "      <th>Size (sqft)</th>\n",
       "      <th>Number of Bedrooms</th>\n",
       "      <th>Number of Floors</th>\n",
       "      <th>Age of Home</th>\n",
       "    </tr>\n",
       "  </thead>\n",
       "  <tbody>\n",
       "    <tr>\n",
       "      <th>0</th>\n",
       "      <td>952.0</td>\n",
       "      <td>2.0</td>\n",
       "      <td>1.0</td>\n",
       "      <td>65.0</td>\n",
       "    </tr>\n",
       "    <tr>\n",
       "      <th>1</th>\n",
       "      <td>1244.0</td>\n",
       "      <td>3.0</td>\n",
       "      <td>1.0</td>\n",
       "      <td>64.0</td>\n",
       "    </tr>\n",
       "    <tr>\n",
       "      <th>2</th>\n",
       "      <td>1947.0</td>\n",
       "      <td>3.0</td>\n",
       "      <td>2.0</td>\n",
       "      <td>17.0</td>\n",
       "    </tr>\n",
       "    <tr>\n",
       "      <th>3</th>\n",
       "      <td>1725.0</td>\n",
       "      <td>3.0</td>\n",
       "      <td>2.0</td>\n",
       "      <td>42.0</td>\n",
       "    </tr>\n",
       "    <tr>\n",
       "      <th>4</th>\n",
       "      <td>1959.0</td>\n",
       "      <td>3.0</td>\n",
       "      <td>2.0</td>\n",
       "      <td>15.0</td>\n",
       "    </tr>\n",
       "  </tbody>\n",
       "</table>\n",
       "</div>"
      ],
      "text/plain": [
       "   Size (sqft)  Number of Bedrooms  Number of Floors  Age of Home\n",
       "0        952.0                 2.0               1.0         65.0\n",
       "1       1244.0                 3.0               1.0         64.0\n",
       "2       1947.0                 3.0               2.0         17.0\n",
       "3       1725.0                 3.0               2.0         42.0\n",
       "4       1959.0                 3.0               2.0         15.0"
      ]
     },
     "execution_count": 73,
     "metadata": {},
     "output_type": "execute_result"
    }
   ],
   "source": [
    "X_train.head()"
   ]
  },
  {
   "cell_type": "code",
   "execution_count": 74,
   "metadata": {},
   "outputs": [
    {
     "data": {
      "text/html": [
       "<div>\n",
       "<style scoped>\n",
       "    .dataframe tbody tr th:only-of-type {\n",
       "        vertical-align: middle;\n",
       "    }\n",
       "\n",
       "    .dataframe tbody tr th {\n",
       "        vertical-align: top;\n",
       "    }\n",
       "\n",
       "    .dataframe thead th {\n",
       "        text-align: right;\n",
       "    }\n",
       "</style>\n",
       "<table border=\"1\" class=\"dataframe\">\n",
       "  <thead>\n",
       "    <tr style=\"text-align: right;\">\n",
       "      <th></th>\n",
       "      <th>Size (sqft)</th>\n",
       "      <th>Number of Bedrooms</th>\n",
       "      <th>Number of Floors</th>\n",
       "      <th>Age of Home</th>\n",
       "    </tr>\n",
       "  </thead>\n",
       "  <tbody>\n",
       "    <tr>\n",
       "      <th>0</th>\n",
       "      <td>-1.120185</td>\n",
       "      <td>-1.087939</td>\n",
       "      <td>-0.782881</td>\n",
       "      <td>1.021911</td>\n",
       "    </tr>\n",
       "    <tr>\n",
       "      <th>1</th>\n",
       "      <td>-0.411745</td>\n",
       "      <td>0.444369</td>\n",
       "      <td>-0.782881</td>\n",
       "      <td>0.983129</td>\n",
       "    </tr>\n",
       "    <tr>\n",
       "      <th>2</th>\n",
       "      <td>1.293850</td>\n",
       "      <td>0.444369</td>\n",
       "      <td>1.277333</td>\n",
       "      <td>-0.839635</td>\n",
       "    </tr>\n",
       "    <tr>\n",
       "      <th>3</th>\n",
       "      <td>0.755241</td>\n",
       "      <td>0.444369</td>\n",
       "      <td>1.277333</td>\n",
       "      <td>0.129920</td>\n",
       "    </tr>\n",
       "    <tr>\n",
       "      <th>4</th>\n",
       "      <td>1.322964</td>\n",
       "      <td>0.444369</td>\n",
       "      <td>1.277333</td>\n",
       "      <td>-0.917199</td>\n",
       "    </tr>\n",
       "  </tbody>\n",
       "</table>\n",
       "</div>"
      ],
      "text/plain": [
       "   Size (sqft)  Number of Bedrooms  Number of Floors  Age of Home\n",
       "0    -1.120185           -1.087939         -0.782881     1.021911\n",
       "1    -0.411745            0.444369         -0.782881     0.983129\n",
       "2     1.293850            0.444369          1.277333    -0.839635\n",
       "3     0.755241            0.444369          1.277333     0.129920\n",
       "4     1.322964            0.444369          1.277333    -0.917199"
      ]
     },
     "execution_count": 74,
     "metadata": {},
     "output_type": "execute_result"
    }
   ],
   "source": [
    "# scaling the features\n",
    "x_mu = np.mean(X_train, axis=0)\n",
    "x_sigma = np.std(X_train, axis=0)\n",
    "x_norm = (X_train - x_mu) / x_sigma\n",
    "\n",
    "x_norm.head()"
   ]
  },
  {
   "cell_type": "code",
   "execution_count": 75,
   "metadata": {},
   "outputs": [],
   "source": [
    "def compute_cost(x, y, w_now, b_now):\n",
    "    x = x.values\n",
    "    y = y.values\n",
    "\n",
    "    m = x.shape[0]\n",
    "    w_now = np.array(w_now)\n",
    "\n",
    "    j_wb = 0\n",
    "\n",
    "    for i in range(m):\n",
    "        f_wb_i = np.dot(w_now, x[i]) + b_now\n",
    "        j_wb += (f_wb_i - y[i]) ** 2\n",
    "\n",
    "    j_wb /= (2 * m)\n",
    "\n",
    "    return j_wb"
   ]
  },
  {
   "cell_type": "code",
   "execution_count": 76,
   "metadata": {},
   "outputs": [],
   "source": [
    "def gradient_descent(x, y, w_now, b_now, alpha):\n",
    "    x = x.values\n",
    "    y = y.values\n",
    "    \n",
    "    m, n = x.shape\n",
    "\n",
    "    dj_dw = np.zeros((n,))\n",
    "    dj_db = 0\n",
    "\n",
    "    for i in range(m):\n",
    "        f_wb = np.dot(w_now, x[i]) + b_now\n",
    "        dj_dw += (f_wb - y[i]) * x[i]\n",
    "        dj_db += f_wb - y[i]\n",
    "    \n",
    "    dj_dw /= m\n",
    "    dj_db /= m\n",
    "\n",
    "    w = w_now - alpha * dj_dw        \n",
    "    b = b_now - alpha * dj_db  \n",
    "\n",
    "    return w, b"
   ]
  },
  {
   "cell_type": "code",
   "execution_count": 77,
   "metadata": {},
   "outputs": [
    {
     "name": "stdout",
     "output_type": "stream",
     "text": [
      "[107.61300784 -19.98576799 -30.96395524 -38.35125229] [362.22388167]\n"
     ]
    }
   ],
   "source": [
    "b = 0\n",
    "w = [0, 0, 0, 0]\n",
    "alpha = 0.01\n",
    "epochs = 1000\n",
    "iterations = 0\n",
    "\n",
    "cost_values = []  # List to store cost values\n",
    "\n",
    "for i in range(epochs):\n",
    "    w, b = gradient_descent(x_norm, Y_train, w, b, alpha)\n",
    "\n",
    "    j_wb = compute_cost(x_norm, Y_train, w, b)\n",
    "    cost_values.append(j_wb)  # Append cost value for plotting\n",
    "    \n",
    "    iterations = i\n",
    "\n",
    "    # Check convergence\n",
    "    if i > 0 and abs(cost_values[-1] - cost_values[-2]) < 1e-3:\n",
    "        print(\"Converged at iteration:\", iterations)\n",
    "        break\n",
    "\n",
    "print(w, b)"
   ]
  },
  {
   "cell_type": "code",
   "execution_count": 78,
   "metadata": {},
   "outputs": [
    {
     "data": {
      "image/png": "[encoded data removed]",
      "text/plain": [
       "<Figure size 640x480 with 1 Axes>"
      ]
     },
     "metadata": {},
     "output_type": "display_data"
    }
   ],
   "source": [
    "# Plotting the cost function\n",
    "# visualizing gradient descent is converging\n",
    "plt.plot(range(0, iterations + 1), cost_values, color=\"red\")\n",
    "plt.xlabel(\"Iterations\")\n",
    "plt.ylabel(\"Cost\")\n",
    "plt.title(\"Cost Function\")\n",
    "plt.show()"
   ]
  },
  {
   "cell_type": "code",
   "execution_count": 79,
   "metadata": {},
   "outputs": [
    {
     "name": "stdout",
     "output_type": "stream",
     "text": [
      "Predicted price of a house with 1200 sqft, 3 bedrooms, 1 floor, 40 years old = $319779\n"
     ]
    }
   ],
   "source": [
    "# First, normalize our example.\n",
    "x_house = np.array([1200, 3, 1, 40])\n",
    "x_house_norm = (x_house - x_mu) / x_sigma\n",
    "\n",
    "# Predict the price\n",
    "x_house_predict = np.dot(x_house_norm, w) + b\n",
    "\n",
    "# Access the scalar value of x_house_predict before formatting\n",
    "print(f\"Predicted price of a house with 1200 sqft, 3 bedrooms, 1 floor, 40 years old = ${x_house_predict[0] * 1000:0.0f}\")\n"
   ]
  },
  {
   "cell_type": "code",
   "execution_count": null,
   "metadata": {},
   "outputs": [],
   "source": [
    "    "
   ]
  }
 ],
 "metadata": {
  "kernelspec": {
   "display_name": "Python 3",
   "language": "python",
   "name": "python3"
  },
  "language_info": {
   "codemirror_mode": {
    "name": "ipython",
    "version": 3
   },
   "file_extension": ".py",
   "mimetype": "text/x-python",
   "name": "python",
   "nbconvert_exporter": "python",
   "pygments_lexer": "ipython3",
   "version": "3.10.12"
  }
 },
 "nbformat": 4,
 "nbformat_minor": 2
}
